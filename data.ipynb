{
 "cells": [
  {
   "cell_type": "code",
   "execution_count": 2,
   "metadata": {},
   "outputs": [],
   "source": [
    "from tools.utils import load_catalog\n",
    "from tools.utils import load_xy\n",
    "from global_settings import DATA_FOLDER\n",
    "from sklearn.preprocessing import MinMaxScaler\n",
    "import pandas as pd\n",
    "import os"
   ]
  },
  {
   "cell_type": "code",
   "execution_count": 18,
   "metadata": {},
   "outputs": [],
   "source": [
    "catalog = load_catalog('ASAS', 'whole')\n",
    "cats, paths = list(catalog['Class']), list(catalog['Path'])\n",
    "unique_cat = list(set(cats))"
   ]
  },
  {
   "cell_type": "code",
   "execution_count": 19,
   "metadata": {},
   "outputs": [
    {
     "data": {
      "text/plain": [
       "['Beta Persei', 'RR Lyrae FM', 'Classical Cepheid', 'Semireg PV', 'W Ursae Ma']"
      ]
     },
     "execution_count": 19,
     "metadata": {},
     "output_type": "execute_result"
    }
   ],
   "source": [
    "unique_cat"
   ]
  },
  {
   "cell_type": "code",
   "execution_count": 20,
   "metadata": {},
   "outputs": [],
   "source": [
    "from tools.utils import load_xy\n",
    "x, y_spar = load_xy('ASAS', catalog)"
   ]
  },
  {
   "cell_type": "code",
   "execution_count": 25,
   "metadata": {},
   "outputs": [
    {
     "name": "stdout",
     "output_type": "stream",
     "text": [
      "8.072000000000001 15.621\n"
     ]
    }
   ],
   "source": [
    "min_mags, max_mags = [], []\n",
    "for cat, path in list(zip(cats, paths)): \n",
    "    if cat == unique_cat[4]: \n",
    "        data_df = pd.read_csv(os.path.join(DATA_FOLDER, 'ASAS', path))\n",
    "        min_mag, max_mag = min(list(data_df['mag'])), max(list(data_df['mag']))\n",
    "        min_mags.append(min_mag); max_mags.append(max_mag)\n",
    "print(min(min_mags), max(max_mags))"
   ]
  },
  {
   "cell_type": "code",
   "execution_count": 76,
   "metadata": {
    "scrolled": false
   },
   "outputs": [
    {
     "data": {
      "image/png": "[encoded data removed]",
      "text/plain": [
       "<Figure size 864x576 with 1 Axes>"
      ]
     },
     "metadata": {},
     "output_type": "display_data"
    }
   ],
   "source": [
    "import matplotlib.pyplot as plt\n",
    "import numpy as np\n",
    "import seaborn as sns\n",
    "sns.set()\n",
    "\n",
    "N = 5\n",
    "min_mag = [5.414, 6.506, 7.479, 8.695, 8.072]\n",
    "max_mag = [14.498, 14.293, 14.821, 15.204, 15.621]\n",
    "ind = np.arange(N) \n",
    "width = 0.35 \n",
    "\n",
    "fig, ax = plt.subplots(figsize=(12, 8))\n",
    "rects1 = ax.bar(ind, max_mag, width)\n",
    "rects2 = ax.bar(ind, min_mag, width)\n",
    "\n",
    "plt.ylabel('mag')\n",
    "plt.xticks(ind, ['Semireg PV', 'Classical Cepheid', 'Beta Persei', 'RR Lyrae FM', 'W Ursae Ma'])\n",
    "plt.yticks(np.arange(0, 21, 10))\n",
    "plt.legend([p1[0], p2[0]], ['max', 'min'])\n",
    "\n",
    "def annotate(rects, color):\n",
    "    for rect in rects:\n",
    "        height = rect.get_height()\n",
    "        ax.annotate(f'{height}', xy=(rect.get_x() + rect.get_width() / 2, height), xytext=(0, 3), \n",
    "                    textcoords=\"offset points\", ha='center', va='bottom', color=color)\n",
    "annotate(rects1, color='black')\n",
    "annotate(rects2, color='white')\n",
    "fig.tight_layout()\n",
    "plt.show()"
   ]
  },
  {
   "cell_type": "code",
   "execution_count": null,
   "metadata": {},
   "outputs": [
    {
     "name": "stderr",
     "output_type": "stream",
     "text": [
      "  3%|▎         | 11276/393103 [07:31<8:06:46, 13.07it/s] "
     ]
    }
   ],
   "source": [
    "from tools.utils import _dump_scaler\n",
    "_dump_scaler('OGLE')"
   ]
  },
  {
   "cell_type": "code",
   "execution_count": 2,
   "metadata": {},
   "outputs": [],
   "source": [
    "import numpy as np \n",
    "a = np.array([1, 2, 3, 4]).reshape(-1, 1)"
   ]
  },
  {
   "cell_type": "code",
   "execution_count": 3,
   "metadata": {},
   "outputs": [
    {
     "data": {
      "text/plain": [
       "array([[1],\n",
       "       [1],\n",
       "       [1]])"
      ]
     },
     "execution_count": 3,
     "metadata": {},
     "output_type": "execute_result"
    }
   ],
   "source": [
    "np.diff(a, axis=0)"
   ]
  },
  {
   "cell_type": "code",
   "execution_count": null,
   "metadata": {},
   "outputs": [],
   "source": []
  }
 ],
 "metadata": {
  "kernelspec": {
   "display_name": "Python 3",
   "language": "python",
   "name": "python3"
  },
  "language_info": {
   "codemirror_mode": {
    "name": "ipython",
    "version": 3
   },
   "file_extension": ".py",
   "mimetype": "text/x-python",
   "name": "python",
   "nbconvert_exporter": "python",
   "pygments_lexer": "ipython3",
   "version": "3.7.3"
  }
 },
 "nbformat": 4,
 "nbformat_minor": 2
}
