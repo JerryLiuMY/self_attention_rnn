{
 "cells": [
  {
   "cell_type": "code",
   "execution_count": 1,
   "metadata": {},
   "outputs": [],
   "source": [
    "import timesynth as ts\n",
    "import os\n",
    "import json\n",
    "import pickle as pkl\n",
    "import copy\n",
    "import matplotlib.pyplot as plt\n",
    "import time\n",
    "import pandas as pd"
   ]
  },
  {
   "cell_type": "code",
   "execution_count": 2,
   "metadata": {},
   "outputs": [],
   "source": [
    "dataDir = './data'  # output all the generated data into this directory"
   ]
  },
  {
   "cell_type": "code",
   "execution_count": 3,
   "metadata": {
    "scrolled": true
   },
   "outputs": [
    {
     "data": {
      "text/plain": [
       "<os._wrap_close at 0x7fbb78236670>"
      ]
     },
     "execution_count": 3,
     "metadata": {},
     "output_type": "execute_result"
    }
   ],
   "source": [
    "os.popen(\"mkdir \" + dataDir)"
   ]
  },
  {
   "cell_type": "markdown",
   "metadata": {},
   "source": [
    "## 正弦波 + 白噪声"
   ]
  },
  {
   "cell_type": "code",
   "execution_count": 4,
   "metadata": {},
   "outputs": [],
   "source": [
    "sinDataDir = dataDir + '/Sinusoidal'"
   ]
  },
  {
   "cell_type": "code",
   "execution_count": 5,
   "metadata": {},
   "outputs": [
    {
     "data": {
      "text/plain": [
       "<os._wrap_close at 0x7fbb4cbf0460>"
      ]
     },
     "execution_count": 5,
     "metadata": {},
     "output_type": "execute_result"
    }
   ],
   "source": [
    "os.popen(\"mkdir \" + sinDataDir)"
   ]
  },
  {
   "cell_type": "markdown",
   "metadata": {},
   "source": [
    "### base data"
   ]
  },
  {
   "cell_type": "code",
   "execution_count": 6,
   "metadata": {},
   "outputs": [],
   "source": [
    "baseConfigDict = {\n",
    "    \"signal_type\": \"Sinusoidal\",  # type of the signal\n",
    "    \"stop_time\": 20,  # total time\n",
    "    \"num_points\": 500,  # number of sample points\n",
    "    \"keep_percentage\": 50,  # \n",
    "    \"frequency\": 0.25,  # frequency of the sine wave\n",
    "    \"amplitude\": 1,  # amplitude of the sine wave\n",
    "    \"noise\": \"white_noise\",  # white_noise or red_noise\n",
    "    \"std\": 0.3,  # std of the white noise or red noise\n",
    "    \"tau\": 0  # useful only when \"noise\" is \"red_noise\"\n",
    "}"
   ]
  },
  {
   "cell_type": "code",
   "execution_count": 7,
   "metadata": {},
   "outputs": [],
   "source": [
    "def generateSinusoidSeries(configDict, outputDir, numSeries):\n",
    "    \"\"\"\n",
    "    this function generates the time series according to the dictionary configData, \n",
    "        and output it to the directory outputDir\n",
    "    \n",
    "    :param configDict: a dictionary in the same format as the baseConfigDict above, specifies the configurations\n",
    "    :param outputDir: output the generated data to this directory\n",
    "    :param numSeries: how many series to generate\n",
    "    \"\"\"\n",
    "    \n",
    "    # output the json object\n",
    "    configJSON = json.dumps(configDict)\n",
    "    while not os.path.exists(outputDir) == True:\n",
    "        time.sleep(0.01)  # 注解：见下面\n",
    "    JSONFile = open(os.path.join(outputDir,\"config.json\"), \"w\")\n",
    "    JSONFile.write(configJSON)\n",
    "    JSONFile.close()\n",
    "    \n",
    "    for ii in range(numSeries):\n",
    "        # generate data, almost the same as the code shown in README.md\n",
    "        time_sampler = ts.TimeSampler(stop_time=configDict[\"stop_time\"])\n",
    "        irregular_time_samples = time_sampler.sample_irregular_time(num_points=configDict[\"num_points\"], \n",
    "                                                                    keep_percentage=configDict[\"keep_percentage\"])\n",
    "        sinusoid = ts.signals.Sinusoidal(frequency=configDict[\"frequency\"], amplitude=configDict[\"amplitude\"])\n",
    "        if configDict[\"noise\"] == \"white_noise\":\n",
    "            noise_generator = ts.noise.GaussianNoise(std=configDict[\"std\"])\n",
    "        elif configDict[\"noise\"] == \"red_noise\":\n",
    "            noise_generator = ts.noise.RedNoise(std=configDict[\"std\"], tau=configDict[\"tau\"])\n",
    "        else:\n",
    "            raise Exception(\"Unknown type of noise!\")\n",
    "        timeseries = ts.TimeSeries(sinusoid, noise_generator=noise_generator)\n",
    "        samples, signals, errors = timeseries.sample(irregular_time_samples)\n",
    "        # plot the generated series to see whether I got it right\n",
    "        ## plt.plot(irregular_time_samples, samples, marker='o')\n",
    "        \n",
    "        # output the data (including the time data and the magnitude data) to the given directory\n",
    "        outData = pd.DataFrame([irregular_time_samples, samples], index=[\"mjd\", \"mag\"])\n",
    "        pklFile = open(os.path.join(outputDir,\"%d.pkl\" % ii), \"wb\")\n",
    "        pkl.dump(outData, pklFile)\n",
    "        pklFile.close()\n",
    "        "
   ]
  },
  {
   "cell_type": "markdown",
   "metadata": {},
   "source": [
    "对`sample_irregular_time`函数的说明：有三个关键字参数`num_points, resolution, keep_percentage`，其中`num_points`和`resolution`的作用相同（同时给出这两个参数时，只有一个有效）。\n",
    "\n",
    "首先将`TimeSampler`类的对象中的`start_time`和`stop_time`之间的区间按照`num_points`或者`resolution`等间隔取点，再从中随机选取keep_percentage%比例的点，最后对这些点施加扰动，得到所需的时间序列"
   ]
  },
  {
   "cell_type": "code",
   "execution_count": 8,
   "metadata": {},
   "outputs": [],
   "source": [
    "NUM_SERIES = 500  # how many series to generate"
   ]
  },
  {
   "cell_type": "code",
   "execution_count": 9,
   "metadata": {},
   "outputs": [],
   "source": [
    "currentDataDir = sinDataDir + '/base'\n",
    "os.popen(\"mkdir \"+currentDataDir)\n",
    "generateSinusoidSeries(baseConfigDict, currentDataDir, NUM_SERIES)"
   ]
  },
  {
   "cell_type": "markdown",
   "metadata": {},
   "source": [
    "关于`sleep(0.01)`那一句的说明：如果不加上这一句，会发生“找不到/base这个目录”的错误，疑似是因为`os.popen(\"mkdir \"+currentDataDir)`这一句只是向操作系统发送了一条创建/base目录的指令，而此程序没有被阻塞，因此在操作系统创建/base这个目录之前，就调用了`JSONFile = open(os.path.join(outputDir,\"config.json\"), \"w\")`这一句，造成找不到/base目录的错误。\n",
    "\n",
    "在这里加一个输入语句`x = input()`可以起到相同的效果，但是比较麻烦，需要手动按一下回车。"
   ]
  },
  {
   "cell_type": "markdown",
   "metadata": {},
   "source": [
    "### 改变正弦波的频率"
   ]
  },
  {
   "cell_type": "code",
   "execution_count": 10,
   "metadata": {},
   "outputs": [],
   "source": [
    "freq = [0.1, 0.5, 0.8, 1]  # the frequencies to choose\n",
    "for f in freq:\n",
    "    configDict = copy.deepcopy(baseConfigDict)\n",
    "    configDict['frequency'] = f\n",
    "    currentDataDir = sinDataDir + '/freq=' + str(f)\n",
    "    os.popen(\"mkdir \"+currentDataDir)\n",
    "    generateSinusoidSeries(configDict, currentDataDir, NUM_SERIES)"
   ]
  },
  {
   "cell_type": "markdown",
   "metadata": {},
   "source": [
    "### 改变采样频率\n",
    "实际上是改变采样点数num_points（也可以改resolution，不过既然示例里面用的是采样点数就改采样点数吧）"
   ]
  },
  {
   "cell_type": "code",
   "execution_count": 11,
   "metadata": {},
   "outputs": [],
   "source": [
    "num_points = [1000, 1500, 2000]\n",
    "for n in num_points:\n",
    "    configDict = copy.deepcopy(baseConfigDict)\n",
    "    configDict['num_points'] = n\n",
    "    currentDataDir = sinDataDir + '/num_points=' + str(n)\n",
    "    os.popen(\"mkdir \"+currentDataDir)\n",
    "    generateSinusoidSeries(configDict, currentDataDir, NUM_SERIES)"
   ]
  },
  {
   "cell_type": "markdown",
   "metadata": {},
   "source": [
    "### 改变正弦波的幅值"
   ]
  },
  {
   "cell_type": "code",
   "execution_count": 12,
   "metadata": {},
   "outputs": [],
   "source": [
    "amplitude = [0.5, 2, 5]\n",
    "for A in amplitude:\n",
    "    configDict = copy.deepcopy(baseConfigDict)\n",
    "    configDict['amplitude'] = A\n",
    "    currentDataDir = sinDataDir + '/amplitude=' + str(A)\n",
    "    os.popen(\"mkdir \"+currentDataDir)\n",
    "    generateSinusoidSeries(configDict, currentDataDir, NUM_SERIES)"
   ]
  },
  {
   "cell_type": "markdown",
   "metadata": {},
   "source": [
    "### 改变噪声的特性"
   ]
  },
  {
   "cell_type": "markdown",
   "metadata": {},
   "source": [
    "#### 白噪声（高斯噪声）"
   ]
  },
  {
   "cell_type": "code",
   "execution_count": 13,
   "metadata": {},
   "outputs": [],
   "source": [
    "sigma = [0.05, 0.1, 0.5]\n",
    "for s in sigma:\n",
    "    configDict = copy.deepcopy(baseConfigDict)\n",
    "    configDict['std'] = s\n",
    "    currentDataDir = sinDataDir + '/white_noise,std=' + str(s)\n",
    "    os.popen(\"mkdir \"+currentDataDir)\n",
    "    generateSinusoidSeries(configDict, currentDataDir, NUM_SERIES)"
   ]
  },
  {
   "cell_type": "markdown",
   "metadata": {},
   "source": [
    "#### red noise"
   ]
  },
  {
   "cell_type": "code",
   "execution_count": 14,
   "metadata": {},
   "outputs": [],
   "source": [
    "parameters = [(0.5, 0.8), (0.5, 0.4), (0.5, 1), (0.2, 0.8), (0.1, 0.8)]  # （std, tau)的组合\n",
    "for sigma, tau in parameters:\n",
    "    configDict = copy.deepcopy(baseConfigDict)\n",
    "    configDict['noise'] = 'red_noise'\n",
    "    configDict['std'] = sigma\n",
    "    configDict['tau'] = tau\n",
    "    currentDataDir = sinDataDir + '/red_noise,std=' + str(sigma) + ',tau=' + str(tau)\n",
    "    os.popen(\"mkdir \"+currentDataDir)\n",
    "    generateSinusoidSeries(configDict, currentDataDir, 20)"
   ]
  },
  {
   "cell_type": "markdown",
   "metadata": {},
   "source": [
    "## GP"
   ]
  },
  {
   "cell_type": "markdown",
   "metadata": {},
   "source": [
    "### base data"
   ]
  },
  {
   "cell_type": "code",
   "execution_count": 15,
   "metadata": {},
   "outputs": [
    {
     "data": {
      "text/plain": [
       "<os._wrap_close at 0x7fbb463afc70>"
      ]
     },
     "execution_count": 15,
     "metadata": {},
     "output_type": "execute_result"
    }
   ],
   "source": [
    "GPDataDir = dataDir + '/GP'\n",
    "os.popen(\"mkdir \"+GPDataDir)"
   ]
  },
  {
   "cell_type": "code",
   "execution_count": 16,
   "metadata": {},
   "outputs": [],
   "source": [
    "baseConfigDict = {\n",
    "    \"signal_type\": \"GP\",  # type of the signal\n",
    "    \"stop_time\": 20,  # total time\n",
    "    \"num_points\": 500,  # number of sample points\n",
    "    \"keep_percentage\": 50,  # \n",
    "    \"variance\": 1.,  # variance of a single normal distribution random variable\n",
    "    \"kernel\": \"\"  # kernal function of the GP\n",
    "    # 与kernel有关的一些常数，还需要再加入此dictionary中，例如当kernel取\"Matern\"时，关键字中还要加上\"nu\"，键值为nu的值\n",
    "}"
   ]
  },
  {
   "cell_type": "code",
   "execution_count": 17,
   "metadata": {},
   "outputs": [],
   "source": [
    "def generateGPSeries(configDict, outputDir, numSeries):\n",
    "    \"\"\"\n",
    "    this function generates the time series according to the dictionary configData, \n",
    "        and output it to the directory outputDir\n",
    "    \n",
    "    :param configDict: a dictionary in the same format as the baseConfigDict above, specifies the configurations\n",
    "    :param outputDir: output the generated data to this directory\n",
    "    :param numSeries: how many series to generate\n",
    "    \"\"\"\n",
    "    \n",
    "    # output the json object\n",
    "    configJSON = json.dumps(configDict)\n",
    "    while os.path.exists(outputDir) is not True:\n",
    "        time.sleep(0.01)\n",
    "    JSONFile = open(os.path.join(outputDir,\"config.json\"), \"w\")\n",
    "    JSONFile.write(configJSON)\n",
    "    JSONFile.close()\n",
    "    \n",
    "    for ii in range(numSeries):\n",
    "        # generate data, almost the same as the code shown in TimeSynthExamples.ipynb\n",
    "        time_sampler = ts.TimeSampler(stop_time=configDict[\"stop_time\"])\n",
    "        irregular_time_samples = time_sampler.sample_irregular_time(num_points=configDict[\"num_points\"], \n",
    "                                                                    keep_percentage=configDict[\"keep_percentage\"])\n",
    "        if configDict['kernel'] == 'Constant':\n",
    "            gp = ts.signals.GaussianProcess(kernel='Constant', variance=configDict['variance'])\n",
    "        elif configDict['kernel'] == 'Exponential':\n",
    "            gp = ts.signals.GaussianProcess(kernel='Exponential', variance=configDict['variance'],\n",
    "                                            gamma=configDict['gamma'])\n",
    "        elif configDict['kernel'] == 'Matern':\n",
    "            gp = ts.signals.GaussianProcess(kernel='Matern', variance=configDict['variance'],\n",
    "                                            nu=configDict['nu'])\n",
    "        elif configDict['kernel'] == 'RQ':\n",
    "            gp = ts.signals.GaussianProcess(kernel='RQ', variance=configDict['variance'],\n",
    "                                            alpha=configDict['alpha'])\n",
    "        else: \n",
    "            raise Exception (\"currently not implemented\")\n",
    "        gp_series = ts.TimeSeries(signal_generator=gp)\n",
    "        samples = gp_series.sample(irregular_time_samples)[0]\n",
    "        # plot the generated series to see whether I got it right\n",
    "        ## plt.plot(irregular_time_samples, samples, marker='o')\n",
    "        \n",
    "        # output the data (including the time data and the magnitude data) to the given directory\n",
    "        outData = pd.DataFrame([irregular_time_samples, samples], index=[\"mjd\", \"mag\"])\n",
    "        pklFile = open(os.path.join(outputDir,\"%d.pkl\" % ii), \"wb\")\n",
    "        pkl.dump(outData, pklFile)\n",
    "        pklFile.close()\n",
    "        "
   ]
  },
  {
   "cell_type": "code",
   "execution_count": 18,
   "metadata": {},
   "outputs": [],
   "source": [
    "sigma = [0.1, 0.5, 1., 2., 5.]"
   ]
  },
  {
   "cell_type": "markdown",
   "metadata": {},
   "source": [
    "### kernel fun = Constant"
   ]
  },
  {
   "cell_type": "markdown",
   "metadata": {},
   "source": [
    "注：下面这个单元格不要运行！Constant的kernel function得到的结果是是所有正态随机变量之间的相关系数均为1，所以画出来的图像是一条直线。"
   ]
  },
  {
   "cell_type": "code",
   "execution_count": 19,
   "metadata": {},
   "outputs": [],
   "source": [
    "# for s in sigma:\n",
    "#     configDict = copy.deepcopy(baseConfigDict)\n",
    "#     configDict['kernel'] = 'Constant'\n",
    "#     configDict['variance'] = s ** 2\n",
    "#     currentDataDir = GPDataDir + '/Constant,var=' + str(s ** 2)\n",
    "#     os.popen(\"mkdir \"+currentDataDir)\n",
    "#     generateGPSeries(configDict, currentDataDir, NUM_SERIES)"
   ]
  },
  {
   "cell_type": "markdown",
   "metadata": {},
   "source": [
    "### ker fun = Exp"
   ]
  },
  {
   "cell_type": "code",
   "execution_count": 20,
   "metadata": {},
   "outputs": [],
   "source": [
    "gamma = [0.1, 0.5, 1]\n",
    "for s in sigma:\n",
    "    for g in gamma:\n",
    "        configDict = copy.deepcopy(baseConfigDict)\n",
    "        configDict['kernel'] = 'Exponential'\n",
    "        configDict['variance'] = s ** 2\n",
    "        configDict['gamma'] = g\n",
    "        currentDataDir = GPDataDir + '/Exponential,var=' + str(s ** 2) + ',gamma=' + str(g)\n",
    "        os.popen(\"mkdir \"+currentDataDir)\n",
    "        generateGPSeries(configDict, currentDataDir, NUM_SERIES)"
   ]
  },
  {
   "cell_type": "markdown",
   "metadata": {},
   "source": [
    "### ker fun = Matern"
   ]
  },
  {
   "cell_type": "code",
   "execution_count": 21,
   "metadata": {},
   "outputs": [],
   "source": [
    "nu = [3./2]\n",
    "for s in sigma:\n",
    "    for v in nu:\n",
    "        configDict = copy.deepcopy(baseConfigDict)\n",
    "        configDict['kernel'] = 'Matern'\n",
    "        configDict['variance'] = s ** 2\n",
    "        configDict['nu'] = v\n",
    "        currentDataDir = GPDataDir + '/Matern,var=' + str(s ** 2) + ',nu=' + str(v)\n",
    "        os.popen(\"mkdir \"+currentDataDir)\n",
    "        generateGPSeries(configDict, currentDataDir, NUM_SERIES)"
   ]
  },
  {
   "cell_type": "markdown",
   "metadata": {},
   "source": [
    "### ker fun = RQ"
   ]
  },
  {
   "cell_type": "code",
   "execution_count": 22,
   "metadata": {},
   "outputs": [],
   "source": [
    "alpha = [0.5, 1, 2]\n",
    "for s in sigma:\n",
    "    for a in alpha:\n",
    "        configDict = copy.deepcopy(baseConfigDict)\n",
    "        configDict['kernel'] = 'RQ'\n",
    "        configDict['variance'] = s ** 2\n",
    "        configDict['alpha'] = a\n",
    "        currentDataDir = GPDataDir + '/RQ,var=' + str(s ** 2) + ',alpha=' + str(v)\n",
    "        os.popen(\"mkdir \"+currentDataDir)\n",
    "        generateGPSeries(configDict, currentDataDir, NUM_SERIES)"
   ]
  },
  {
   "cell_type": "markdown",
   "metadata": {},
   "source": [
    "### 改变采样频率"
   ]
  },
  {
   "cell_type": "code",
   "execution_count": 23,
   "metadata": {},
   "outputs": [],
   "source": [
    "num_points = [1000, 1500, 2000]\n",
    "for n in num_points:\n",
    "    configDict = copy.deepcopy(baseConfigDict)\n",
    "    configDict['num_points'] = n\n",
    "    configDict['kernel'] = 'Exponential'\n",
    "    configDict['variance'] = 1.\n",
    "    configDict['gamma'] = 1\n",
    "    currentDataDir = GPDataDir + '/num_points=' + str(n)\n",
    "    os.popen(\"mkdir \"+currentDataDir)\n",
    "    generateGPSeries(configDict, currentDataDir, NUM_SERIES)"
   ]
  },
  {
   "cell_type": "markdown",
   "metadata": {},
   "source": [
    "## CAR"
   ]
  },
  {
   "cell_type": "code",
   "execution_count": 29,
   "metadata": {},
   "outputs": [
    {
     "data": {
      "text/plain": [
       "<os._wrap_close at 0x7fbb7c244790>"
      ]
     },
     "execution_count": 29,
     "metadata": {},
     "output_type": "execute_result"
    }
   ],
   "source": [
    "CARDataDir = dataDir + '/CAR'\n",
    "os.popen(\"mkdir \"+CARDataDir)"
   ]
  },
  {
   "cell_type": "code",
   "execution_count": 30,
   "metadata": {},
   "outputs": [],
   "source": [
    "baseConfigDict = {\n",
    "    \"signal_type\": \"CAR\",  # type of the signal\n",
    "    \"stop_time\": 20,  # total time\n",
    "    \"num_points\": 500,  # number of sample points\n",
    "    \"keep_percentage\": 50,  # \n",
    "    \"ar_param\": 0.9,  # parameter of the AR process\n",
    "    \"sigma\": 1  # std of the signal \n",
    "}"
   ]
  },
  {
   "cell_type": "code",
   "execution_count": 31,
   "metadata": {},
   "outputs": [],
   "source": [
    "def generateCARSeries(configDict, outputDir, numSeries):\n",
    "    \"\"\"\n",
    "    this function generates the time series according to the dictionary configData, \n",
    "        and output it to the directory outputDir\n",
    "    \n",
    "    :param configDict: a dictionary in the same format as the baseConfigDict above, specifies the configurations\n",
    "    :param outputDir: output the generated data to this directory\n",
    "    :param numSeries: how many series to generate\n",
    "    \"\"\"\n",
    "    \n",
    "    # output the json object\n",
    "    configJSON = json.dumps(configDict)\n",
    "    while os.path.exists(outputDir) is not True:\n",
    "        time.sleep(0.01)\n",
    "    JSONFile = open(os.path.join(outputDir,\"config.json\"), \"w\")\n",
    "    JSONFile.write(configJSON)\n",
    "    JSONFile.close()\n",
    "    \n",
    "    for ii in range(numSeries):\n",
    "        # generate data, almost the same as the code shown in TimeSynthExamples.ipynb\n",
    "        time_sampler = ts.TimeSampler(stop_time=configDict[\"stop_time\"])\n",
    "        irregular_time_samples = time_sampler.sample_irregular_time(num_points=configDict[\"num_points\"], \n",
    "                                                                    keep_percentage=configDict[\"keep_percentage\"])\n",
    "        car = ts.signals.CAR(ar_param=configDict['ar_param'], sigma=configDict['sigma'])\n",
    "        car_series = ts.TimeSeries(signal_generator=car)\n",
    "        samples = car_series.sample(irregular_time_samples)[0]\n",
    "        # plot the generated series to see whether I got it right\n",
    "        ## plt.plot(irregular_time_samples, samples, marker='o')\n",
    "        \n",
    "        # output the data (including the time data and the magnitude data) to the given directory\n",
    "        outData = pd.DataFrame([irregular_time_samples, samples], index=[\"mjd\", \"mag\"])\n",
    "        pklFile = open(os.path.join(outputDir,\"%d.pkl\" % ii), \"wb\")\n",
    "        pkl.dump(outData, pklFile)\n",
    "        pklFile.close()\n",
    "        "
   ]
  },
  {
   "cell_type": "markdown",
   "metadata": {},
   "source": [
    "### 改变 sigma 和 ar_param"
   ]
  },
  {
   "cell_type": "code",
   "execution_count": 32,
   "metadata": {},
   "outputs": [],
   "source": [
    "sigma = [1, 0.5, 0.1]\n",
    "ar_param = [0.9, 0.5, 0.3]\n",
    "for s in sigma:\n",
    "    for p in ar_param:\n",
    "        configDict = copy.deepcopy(baseConfigDict)\n",
    "        configDict['ar_param'] = p\n",
    "        configDict['sigma'] = s\n",
    "        currentDataDir = CARDataDir + '/ar_param=' + str(p) + ',sigma=' + str(s)\n",
    "        os.popen(\"mkdir \"+currentDataDir)\n",
    "        generateCARSeries(configDict, currentDataDir, NUM_SERIES)"
   ]
  },
  {
   "cell_type": "markdown",
   "metadata": {},
   "source": [
    "### 改变采样频率"
   ]
  },
  {
   "cell_type": "code",
   "execution_count": 33,
   "metadata": {},
   "outputs": [],
   "source": [
    "num_points = [1000, 1500, 2000]\n",
    "for n in num_points:\n",
    "    configDict = copy.deepcopy(baseConfigDict)\n",
    "    configDict['num_points'] = n\n",
    "    currentDataDir = CARDataDir + '/num_points=' + str(n)\n",
    "    os.popen(\"mkdir \"+currentDataDir)\n",
    "    generateCARSeries(configDict, currentDataDir, NUM_SERIES)"
   ]
  },
  {
   "cell_type": "markdown",
   "metadata": {},
   "source": [
    "----------\n",
    "上面产生的数据横竖方向反了，需要reverse一下"
   ]
  },
  {
   "cell_type": "code",
   "execution_count": 2,
   "metadata": {},
   "outputs": [],
   "source": [
    "for root, dirs, files in os.walk(\"./data\"):\n",
    "    for fileName in files:\n",
    "        if os.path.splitext(fileName)[1] == \".pkl\":\n",
    "            pklFile = open(os.path.join(root, fileName), \"rb\")\n",
    "            data = pkl.load(pklFile)\n",
    "            pklFile.close()\n",
    "            data = pd.DataFrame(data.values.T, index = data.columns, columns = data.index)\n",
    "            pklFile = open(os.path.join(root, fileName), \"wb\")\n",
    "            pkl.dump(data, pklFile)\n",
    "            pklFile.close()"
   ]
  },
  {
   "cell_type": "code",
   "execution_count": null,
   "metadata": {},
   "outputs": [],
   "source": []
  }
 ],
 "metadata": {
  "kernelspec": {
   "display_name": "Python [conda env:TimeSynth] *",
   "language": "python",
   "name": "conda-env-TimeSynth-py"
  },
  "language_info": {
   "codemirror_mode": {
    "name": "ipython",
    "version": 3
   },
   "file_extension": ".py",
   "mimetype": "text/x-python",
   "name": "python",
   "nbconvert_exporter": "python",
   "pygments_lexer": "ipython3",
   "version": "3.8.3"
  }
 },
 "nbformat": 4,
 "nbformat_minor": 4
}
