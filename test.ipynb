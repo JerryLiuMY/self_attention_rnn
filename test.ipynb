{
 "cells": [
  {
   "cell_type": "code",
   "execution_count": 6,
   "metadata": {},
   "outputs": [
    {
     "name": "stdout",
     "output_type": "stream",
     "text": [
      "2020-07-20 19:42:40.540889 Loading MACHO evalu set\n"
     ]
    }
   ],
   "source": [
    "from tools.data_tools import data_loader\n",
    "x, y = data_loader('MACHO', 'evalu')"
   ]
  },
  {
   "cell_type": "code",
   "execution_count": 10,
   "metadata": {},
   "outputs": [
    {
     "data": {
      "text/plain": [
       "122"
      ]
     },
     "execution_count": 10,
     "metadata": {},
     "output_type": "execute_result"
    }
   ],
   "source": [
    "sum([_ == ['RRL'] for _ in y])"
   ]
  },
  {
   "cell_type": "code",
   "execution_count": 11,
   "metadata": {},
   "outputs": [
    {
     "data": {
      "text/plain": [
       "False"
      ]
     },
     "execution_count": 11,
     "metadata": {},
     "output_type": "execute_result"
    }
   ],
   "source": [
    "bool(0)"
   ]
  },
  {
   "cell_type": "code",
   "execution_count": 18,
   "metadata": {},
   "outputs": [],
   "source": [
    "def lr_scheduler(epoch, lr):\n",
    "    decay_rate = 0.1\n",
    "    decay_step = 90\n",
    "    if epoch % decay_step == 0 and epoch:\n",
    "        return lr * decay_rate\n",
    "    return lr"
   ]
  },
  {
   "cell_type": "code",
   "execution_count": 17,
   "metadata": {},
   "outputs": [
    {
     "data": {
      "text/plain": [
       "0.05"
      ]
     },
     "execution_count": 17,
     "metadata": {},
     "output_type": "execute_result"
    }
   ],
   "source": [
    "lr_scheduler()"
   ]
  },
  {
   "cell_type": "code",
   "execution_count": 85,
   "metadata": {},
   "outputs": [],
   "source": [
    "from sklearn.model_selection._split import StratifiedKFold\n",
    "from tools.data_tools import load_catalog\n",
    "from tools.data_tools import load_one_hot\n",
    "from tools.data_tools import load_xy\n",
    "import numpy as np\n",
    "from tools.data_tools import fold_generator\n",
    "skf = StratifiedKFold(n_splits=10, shuffle=True, random_state=0)"
   ]
  },
  {
   "cell_type": "code",
   "execution_count": 109,
   "metadata": {},
   "outputs": [
    {
     "data": {
      "text/html": [
       "<div>\n",
       "<style scoped>\n",
       "    .dataframe tbody tr th:only-of-type {\n",
       "        vertical-align: middle;\n",
       "    }\n",
       "\n",
       "    .dataframe tbody tr th {\n",
       "        vertical-align: top;\n",
       "    }\n",
       "\n",
       "    .dataframe thead th {\n",
       "        text-align: right;\n",
       "    }\n",
       "</style>\n",
       "<table border=\"1\" class=\"dataframe\">\n",
       "  <thead>\n",
       "    <tr style=\"text-align: right;\">\n",
       "      <th></th>\n",
       "      <th>Class</th>\n",
       "      <th>N</th>\n",
       "      <th>Path</th>\n",
       "      <th>Band</th>\n",
       "    </tr>\n",
       "  </thead>\n",
       "  <tbody>\n",
       "    <tr>\n",
       "      <th>0</th>\n",
       "      <td>Be</td>\n",
       "      <td>431</td>\n",
       "      <td>LCs/lc_24_2854_92_B_mjd.dat</td>\n",
       "      <td>B</td>\n",
       "    </tr>\n",
       "    <tr>\n",
       "      <th>1</th>\n",
       "      <td>Be</td>\n",
       "      <td>1036</td>\n",
       "      <td>LCs/lc_207_16483_111_B_mjd.dat</td>\n",
       "      <td>B</td>\n",
       "    </tr>\n",
       "    <tr>\n",
       "      <th>2</th>\n",
       "      <td>Be</td>\n",
       "      <td>351</td>\n",
       "      <td>LCs/lc_55_3729_71_B_mjd.dat</td>\n",
       "      <td>B</td>\n",
       "    </tr>\n",
       "    <tr>\n",
       "      <th>3</th>\n",
       "      <td>Be</td>\n",
       "      <td>342</td>\n",
       "      <td>LCs/lc_55_3367_61_B_mjd.dat</td>\n",
       "      <td>B</td>\n",
       "    </tr>\n",
       "    <tr>\n",
       "      <th>4</th>\n",
       "      <td>Be</td>\n",
       "      <td>1056</td>\n",
       "      <td>LCs/lc_212_15790_340_B_mjd.dat</td>\n",
       "      <td>B</td>\n",
       "    </tr>\n",
       "    <tr>\n",
       "      <th>...</th>\n",
       "      <td>...</td>\n",
       "      <td>...</td>\n",
       "      <td>...</td>\n",
       "      <td>...</td>\n",
       "    </tr>\n",
       "    <tr>\n",
       "      <th>2095</th>\n",
       "      <td>RRL</td>\n",
       "      <td>1121</td>\n",
       "      <td>LCs/lc_2_5390_1120_B_mjd.dat</td>\n",
       "      <td>B</td>\n",
       "    </tr>\n",
       "    <tr>\n",
       "      <th>2096</th>\n",
       "      <td>RRL</td>\n",
       "      <td>1074</td>\n",
       "      <td>LCs/lc_2_4786_503_B_mjd.dat</td>\n",
       "      <td>B</td>\n",
       "    </tr>\n",
       "    <tr>\n",
       "      <th>2097</th>\n",
       "      <td>RRL</td>\n",
       "      <td>917</td>\n",
       "      <td>LCs/lc_1_3444_1268_B_mjd.dat</td>\n",
       "      <td>B</td>\n",
       "    </tr>\n",
       "    <tr>\n",
       "      <th>2098</th>\n",
       "      <td>RRL</td>\n",
       "      <td>1241</td>\n",
       "      <td>LCs/lc_1_3813_1066_B_mjd.dat</td>\n",
       "      <td>B</td>\n",
       "    </tr>\n",
       "    <tr>\n",
       "      <th>2099</th>\n",
       "      <td>RRL</td>\n",
       "      <td>1198</td>\n",
       "      <td>LCs/lc_1_4411_1898_B_mjd.dat</td>\n",
       "      <td>B</td>\n",
       "    </tr>\n",
       "  </tbody>\n",
       "</table>\n",
       "<p>1890 rows × 4 columns</p>\n",
       "</div>"
      ],
      "text/plain": [
       "     Class     N                            Path Band\n",
       "0       Be   431     LCs/lc_24_2854_92_B_mjd.dat    B\n",
       "1       Be  1036  LCs/lc_207_16483_111_B_mjd.dat    B\n",
       "2       Be   351     LCs/lc_55_3729_71_B_mjd.dat    B\n",
       "3       Be   342     LCs/lc_55_3367_61_B_mjd.dat    B\n",
       "4       Be  1056  LCs/lc_212_15790_340_B_mjd.dat    B\n",
       "...    ...   ...                             ...  ...\n",
       "2095   RRL  1121    LCs/lc_2_5390_1120_B_mjd.dat    B\n",
       "2096   RRL  1074     LCs/lc_2_4786_503_B_mjd.dat    B\n",
       "2097   RRL   917    LCs/lc_1_3444_1268_B_mjd.dat    B\n",
       "2098   RRL  1241    LCs/lc_1_3813_1066_B_mjd.dat    B\n",
       "2099   RRL  1198    LCs/lc_1_4411_1898_B_mjd.dat    B\n",
       "\n",
       "[1890 rows x 4 columns]"
      ]
     },
     "execution_count": 109,
     "metadata": {},
     "output_type": "execute_result"
    }
   ],
   "source": [
    "from tools.utils import load_fold\n",
    "load_fold('MACHO', '0')['train']"
   ]
  },
  {
   "cell_type": "code",
   "execution_count": 113,
   "metadata": {},
   "outputs": [
    {
     "data": {
      "text/plain": [
       "dict_keys(['train', 'valid'])"
      ]
     },
     "execution_count": 113,
     "metadata": {},
     "output_type": "execute_result"
    }
   ],
   "source": [
    "load_fold('MACHO', '0')"
   ]
  }
 ],
 "metadata": {
  "kernelspec": {
   "display_name": "Python 3",
   "language": "python",
   "name": "python3"
  },
  "language_info": {
   "codemirror_mode": {
    "name": "ipython",
    "version": 3
   },
   "file_extension": ".py",
   "mimetype": "text/x-python",
   "name": "python",
   "nbconvert_exporter": "python",
   "pygments_lexer": "ipython3",
   "version": "3.7.3"
  }
 },
 "nbformat": 4,
 "nbformat_minor": 2
}
