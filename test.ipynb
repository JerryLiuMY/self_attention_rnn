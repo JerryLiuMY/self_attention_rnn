{
 "cells": [
  {
   "cell_type": "code",
   "execution_count": 1,
   "metadata": {},
   "outputs": [],
   "source": [
    "from main import run_fold\n",
    "from config.model_config import rnn_nums_hp, rnn_dims_hp, dnn_nums_hp\n",
    "rnn_nums, rnn_dims, dnn_nums = rnn_nums_hp.domain.values, rnn_dims_hp.domain.values, dnn_nums_hp.domain.values\n",
    "rnn_num, rnn_dim, dnn_num = rnn_nums[0], rnn_dims[0], dnn_nums[0]\n",
    "hyper_param = {rnn_nums_hp: rnn_num, rnn_dims_hp: rnn_dim, dnn_nums_hp: dnn_num}"
   ]
  },
  {
   "cell_type": "code",
   "execution_count": null,
   "metadata": {
    "scrolled": true
   },
   "outputs": [
    {
     "name": "stdout",
     "output_type": "stream",
     "text": [
      "--- Starting trial: rnn_num_2-rnn_dim_15-dnn_num_2-2020-07-27--21-20-09\n",
      "{'rnn_nums': 2, 'rnn_dims': 15, 'dnn_nums': 2}\n",
      "2020-07-27 21:20:09.995703 Loading ASAS train set\n",
      "2020-07-27 21:20:15.230770 Loading ASAS valid set\n",
      "2020-07-27 21:20:15.825427 Loading ASAS evalu set\n",
      "\n",
      "Epoch 00001: LearningRateScheduler reducing learning rate to 0.001.\n",
      "Epoch 1/100\n",
      "24/24 [==============================] - 6s 233ms/step - loss: 4.2640 - accuracy: 0.2023 - k_accuracy: 1.0000 - precision: 0.2857 - recall: 6.6667e-04 - auc: 0.5150 - val_loss: 4.8370 - val_accuracy: 0.1479 - val_k_accuracy: 1.0000 - val_precision: 0.0000e+00 - val_recall: 0.0000e+00 - val_auc: 0.4926 - lr: 0.0010\n",
      "\n",
      "Epoch 00002: LearningRateScheduler reducing learning rate to 0.001.\n",
      "Epoch 2/100\n",
      "24/24 [==============================] - 3s 106ms/step - loss: 3.4801 - accuracy: 0.2317 - k_accuracy: 1.0000 - precision: 0.0000e+00 - recall: 0.0000e+00 - auc: 0.5518 - val_loss: 4.1396 - val_accuracy: 0.1672 - val_k_accuracy: 1.0000 - val_precision: 0.0000e+00 - val_recall: 0.0000e+00 - val_auc: 0.5120 - lr: 0.0010\n",
      "\n",
      "Epoch 00003: LearningRateScheduler reducing learning rate to 0.001.\n",
      "Epoch 3/100\n",
      "24/24 [==============================] - 3s 114ms/step - loss: 2.8618 - accuracy: 0.2600 - k_accuracy: 1.0000 - precision: 0.0000e+00 - recall: 0.0000e+00 - auc: 0.5753 - val_loss: 3.6018 - val_accuracy: 0.1543 - val_k_accuracy: 1.0000 - val_precision: 0.0000e+00 - val_recall: 0.0000e+00 - val_auc: 0.4944 - lr: 0.0010\n",
      "\n",
      "Epoch 00004: LearningRateScheduler reducing learning rate to 0.001.\n",
      "Epoch 4/100\n",
      "24/24 [==============================] - 3s 105ms/step - loss: 2.3739 - accuracy: 0.2787 - k_accuracy: 1.0000 - precision: 0.0000e+00 - recall: 0.0000e+00 - auc: 0.6002 - val_loss: 3.1710 - val_accuracy: 0.1415 - val_k_accuracy: 1.0000 - val_precision: 0.0000e+00 - val_recall: 0.0000e+00 - val_auc: 0.5035 - lr: 0.0010\n",
      "\n",
      "Epoch 00005: LearningRateScheduler reducing learning rate to 0.001.\n",
      "Epoch 5/100\n",
      "24/24 [==============================] - 2s 100ms/step - loss: 1.9894 - accuracy: 0.2980 - k_accuracy: 1.0000 - precision: 0.0000e+00 - recall: 0.0000e+00 - auc: 0.6139 - val_loss: 2.8371 - val_accuracy: 0.1093 - val_k_accuracy: 1.0000 - val_precision: 0.0000e+00 - val_recall: 0.0000e+00 - val_auc: 0.4917 - lr: 0.0010\n",
      "\n",
      "Epoch 00006: LearningRateScheduler reducing learning rate to 0.001.\n",
      "Epoch 6/100\n",
      "24/24 [==============================] - 3s 110ms/step - loss: 1.6851 - accuracy: 0.3090 - k_accuracy: 1.0000 - precision: 0.0000e+00 - recall: 0.0000e+00 - auc: 0.6307 - val_loss: 2.5676 - val_accuracy: 0.1093 - val_k_accuracy: 1.0000 - val_precision: 0.0000e+00 - val_recall: 0.0000e+00 - val_auc: 0.4940 - lr: 0.0010\n",
      "\n",
      "Epoch 00007: LearningRateScheduler reducing learning rate to 0.001.\n",
      "Epoch 7/100\n",
      "24/24 [==============================] - 3s 117ms/step - loss: 1.4448 - accuracy: 0.3240 - k_accuracy: 1.0000 - precision: 0.0000e+00 - recall: 0.0000e+00 - auc: 0.6431 - val_loss: 2.3552 - val_accuracy: 0.0997 - val_k_accuracy: 1.0000 - val_precision: 0.0000e+00 - val_recall: 0.0000e+00 - val_auc: 0.5028 - lr: 0.0010\n",
      "\n",
      "Epoch 00008: LearningRateScheduler reducing learning rate to 0.001.\n",
      "Epoch 8/100\n",
      "24/24 [==============================] - 3s 113ms/step - loss: 1.2568 - accuracy: 0.3323 - k_accuracy: 1.0000 - precision: 0.0000e+00 - recall: 0.0000e+00 - auc: 0.6484 - val_loss: 2.1903 - val_accuracy: 0.0868 - val_k_accuracy: 1.0000 - val_precision: 0.0000e+00 - val_recall: 0.0000e+00 - val_auc: 0.5034 - lr: 0.0010\n",
      "\n",
      "Epoch 00009: LearningRateScheduler reducing learning rate to 0.001.\n",
      "Epoch 9/100\n",
      "24/24 [==============================] - 3s 111ms/step - loss: 1.1073 - accuracy: 0.3473 - k_accuracy: 1.0000 - precision: 0.0000e+00 - recall: 0.0000e+00 - auc: 0.6617 - val_loss: 2.0588 - val_accuracy: 0.0772 - val_k_accuracy: 1.0000 - val_precision: 0.0000e+00 - val_recall: 0.0000e+00 - val_auc: 0.5105 - lr: 0.0010\n",
      "\n",
      "Epoch 00010: LearningRateScheduler reducing learning rate to 0.001.\n",
      "Epoch 10/100\n",
      "24/24 [==============================] - 2s 101ms/step - loss: 0.9909 - accuracy: 0.3507 - k_accuracy: 1.0000 - precision: 0.0000e+00 - recall: 0.0000e+00 - auc: 0.6644 - val_loss: 1.9656 - val_accuracy: 0.0740 - val_k_accuracy: 1.0000 - val_precision: 0.0000e+00 - val_recall: 0.0000e+00 - val_auc: 0.4831 - lr: 0.0010\n",
      "\n",
      "Epoch 00011: LearningRateScheduler reducing learning rate to 0.001.\n",
      "Epoch 11/100\n",
      "24/24 [==============================] - 2s 103ms/step - loss: 0.8999 - accuracy: 0.3523 - k_accuracy: 1.0000 - precision: 0.0000e+00 - recall: 0.0000e+00 - auc: 0.6673 - val_loss: 1.8903 - val_accuracy: 0.0611 - val_k_accuracy: 1.0000 - val_precision: 0.0000e+00 - val_recall: 0.0000e+00 - val_auc: 0.4868 - lr: 0.0010\n",
      "\n",
      "Epoch 00012: LearningRateScheduler reducing learning rate to 0.001.\n",
      "Epoch 12/100\n",
      "24/24 [==============================] - 2s 102ms/step - loss: 0.8284 - accuracy: 0.3473 - k_accuracy: 1.0000 - precision: 0.0000e+00 - recall: 0.0000e+00 - auc: 0.6730 - val_loss: 1.8314 - val_accuracy: 0.0611 - val_k_accuracy: 1.0000 - val_precision: 0.0000e+00 - val_recall: 0.0000e+00 - val_auc: 0.4898 - lr: 0.0010\n",
      "\n",
      "Epoch 00013: LearningRateScheduler reducing learning rate to 0.001.\n",
      "Epoch 13/100\n",
      "24/24 [==============================] - 2s 101ms/step - loss: 0.7731 - accuracy: 0.3507 - k_accuracy: 1.0000 - precision: 0.0000e+00 - recall: 0.0000e+00 - auc: 0.6717 - val_loss: 1.7865 - val_accuracy: 0.0643 - val_k_accuracy: 1.0000 - val_precision: 0.0000e+00 - val_recall: 0.0000e+00 - val_auc: 0.4911 - lr: 0.0010\n",
      "\n",
      "Epoch 00014: LearningRateScheduler reducing learning rate to 0.001.\n",
      "Epoch 14/100\n",
      "24/24 [==============================] - 3s 105ms/step - loss: 0.7284 - accuracy: 0.3490 - k_accuracy: 1.0000 - precision: 0.0000e+00 - recall: 0.0000e+00 - auc: 0.6749 - val_loss: 1.7564 - val_accuracy: 0.0675 - val_k_accuracy: 1.0000 - val_precision: 0.0000e+00 - val_recall: 0.0000e+00 - val_auc: 0.5125 - lr: 0.0010\n",
      "\n",
      "Epoch 00015: LearningRateScheduler reducing learning rate to 0.001.\n",
      "Epoch 15/100\n",
      "24/24 [==============================] - 3s 108ms/step - loss: 0.6927 - accuracy: 0.3557 - k_accuracy: 1.0000 - precision: 1.0000 - recall: 3.3333e-04 - auc: 0.6819 - val_loss: 1.7400 - val_accuracy: 0.0675 - val_k_accuracy: 1.0000 - val_precision: 0.0000e+00 - val_recall: 0.0000e+00 - val_auc: 0.5042 - lr: 0.0010\n",
      "\n",
      "Epoch 00016: LearningRateScheduler reducing learning rate to 0.001.\n",
      "Epoch 16/100\n",
      "24/24 [==============================] - 3s 108ms/step - loss: 0.6635 - accuracy: 0.3693 - k_accuracy: 1.0000 - precision: 0.5714 - recall: 0.0013 - auc: 0.6932 - val_loss: 1.7279 - val_accuracy: 0.0804 - val_k_accuracy: 1.0000 - val_precision: 0.0000e+00 - val_recall: 0.0000e+00 - val_auc: 0.5118 - lr: 0.0010\n",
      "\n",
      "Epoch 00017: LearningRateScheduler reducing learning rate to 0.001.\n",
      "Epoch 17/100\n",
      "24/24 [==============================] - 3s 109ms/step - loss: 0.6383 - accuracy: 0.3830 - k_accuracy: 1.0000 - precision: 0.8261 - recall: 0.0127 - auc: 0.7056 - val_loss: 1.7258 - val_accuracy: 0.0579 - val_k_accuracy: 1.0000 - val_precision: 0.0000e+00 - val_recall: 0.0000e+00 - val_auc: 0.5089 - lr: 0.0010\n",
      "\n",
      "Epoch 00018: LearningRateScheduler reducing learning rate to 0.001.\n",
      "Epoch 18/100\n",
      "24/24 [==============================] - 2s 102ms/step - loss: 0.6177 - accuracy: 0.3870 - k_accuracy: 1.0000 - precision: 0.7299 - recall: 0.0333 - auc: 0.7143 - val_loss: 1.7232 - val_accuracy: 0.0675 - val_k_accuracy: 1.0000 - val_precision: 0.0000e+00 - val_recall: 0.0000e+00 - val_auc: 0.5084 - lr: 0.0010\n",
      "\n",
      "Epoch 00019: LearningRateScheduler reducing learning rate to 0.001.\n",
      "Epoch 19/100\n",
      "24/24 [==============================] - 2s 101ms/step - loss: 0.5998 - accuracy: 0.3943 - k_accuracy: 1.0000 - precision: 0.7457 - recall: 0.0577 - auc: 0.7271 - val_loss: 1.7241 - val_accuracy: 0.0547 - val_k_accuracy: 1.0000 - val_precision: 0.0000e+00 - val_recall: 0.0000e+00 - val_auc: 0.5072 - lr: 0.0010\n",
      "\n",
      "Epoch 00020: LearningRateScheduler reducing learning rate to 0.001.\n",
      "Epoch 20/100\n",
      "24/24 [==============================] - ETA: 0s - loss: 0.5838 - accuracy: 0.4113 - k_accuracy: 1.0000 - precision: 0.7307 - recall: 0.0787 - auc: 0.7406"
     ]
    }
   ],
   "source": [
    "from main import run_fold, run\n",
    "run('ASAS')"
   ]
  },
  {
   "cell_type": "code",
   "execution_count": null,
   "metadata": {},
   "outputs": [],
   "source": []
  }
 ],
 "metadata": {
  "kernelspec": {
   "display_name": "Python 3",
   "language": "python",
   "name": "python3"
  },
  "language_info": {
   "codemirror_mode": {
    "name": "ipython",
    "version": 3
   },
   "file_extension": ".py",
   "mimetype": "text/x-python",
   "name": "python",
   "nbconvert_exporter": "python",
   "pygments_lexer": "ipython3",
   "version": "3.7.3"
  }
 },
 "nbformat": 4,
 "nbformat_minor": 2
}
