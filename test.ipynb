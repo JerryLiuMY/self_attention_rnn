{
 "cells": [
  {
   "cell_type": "code",
   "execution_count": 1,
   "metadata": {},
   "outputs": [],
   "source": [
    "from main import run_fold\n",
    "from config.model_config import rnn_nums_hp, rnn_dims_hp, dnn_nums_hp\n",
    "rnn_nums, rnn_dims, dnn_nums = rnn_nums_hp.domain.values, rnn_dims_hp.domain.values, dnn_nums_hp.domain.values\n",
    "rnn_num, rnn_dim, dnn_num = rnn_nums[0], rnn_dims[0], dnn_nums[0]\n",
    "hyper_param = {rnn_nums_hp: rnn_num, rnn_dims_hp: rnn_dim, dnn_nums_hp: dnn_num}"
   ]
  },
  {
   "cell_type": "code",
   "execution_count": null,
   "metadata": {
    "scrolled": true
   },
   "outputs": [
    {
     "name": "stdout",
     "output_type": "stream",
     "text": [
      "--- Starting trial: rnn_num_2-rnn_dim_70-dnn_num_2-2020-08-02--13-38-16\n",
      "{'rnn_nums': 2, 'rnn_dims': 70, 'dnn_nums': 2}\n",
      "2020-08-02 13:38:16.450277 Loading ASAS train set\n"
     ]
    }
   ],
   "source": [
    "from main import run_fold, run\n",
    "run('ASAS')"
   ]
  },
  {
   "cell_type": "code",
   "execution_count": null,
   "metadata": {},
   "outputs": [],
   "source": []
  }
 ],
 "metadata": {
  "kernelspec": {
   "display_name": "Python 3",
   "language": "python",
   "name": "python3"
  },
  "language_info": {
   "codemirror_mode": {
    "name": "ipython",
    "version": 3
   },
   "file_extension": ".py",
   "mimetype": "text/x-python",
   "name": "python",
   "nbconvert_exporter": "python",
   "pygments_lexer": "ipython3",
   "version": "3.7.3"
  }
 },
 "nbformat": 4,
 "nbformat_minor": 2
}
