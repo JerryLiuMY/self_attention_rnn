{
 "cells": [
  {
   "cell_type": "code",
   "execution_count": 1,
   "metadata": {},
   "outputs": [],
   "source": [
    "from main import run_fold\n",
    "from config.model_config import rnn_nums_hp, rnn_dims_hp, dnn_nums_hp\n",
    "rnn_nums, rnn_dims, dnn_nums = rnn_nums_hp.domain.values, rnn_dims_hp.domain.values, dnn_nums_hp.domain.values\n",
    "rnn_num, rnn_dim, dnn_num = rnn_nums[0], rnn_dims[0], dnn_nums[0]\n",
    "hyper_param = {rnn_nums_hp: rnn_num, rnn_dims_hp: rnn_dim, dnn_nums_hp: dnn_num}"
   ]
  },
  {
   "cell_type": "code",
   "execution_count": null,
   "metadata": {
    "scrolled": true
   },
   "outputs": [
    {
     "name": "stdout",
     "output_type": "stream",
     "text": [
      "--- Starting trial: rnn_num_2-rnn_dim_70-dnn_num_2-2020-08-02--13-38-16\n",
      "{'rnn_nums': 2, 'rnn_dims': 70, 'dnn_nums': 2}\n",
      "2020-08-02 13:38:16.450277 Loading ASAS train set\n",
      "2020-08-02 13:38:33.295738 Loading ASAS valid set\n",
      "2020-08-02 13:38:35.371383 Loading ASAS evalu set\n",
      "\n",
      "Epoch 00001: LearningRateScheduler reducing learning rate to 0.001.\n",
      "Epoch 1/100\n",
      "24/24 [==============================] - 30s 1s/step - loss: 29.6359 - accuracy: 0.5933 - precision: 0.8540 - recall: 0.1970 - val_loss: 22.3237 - val_accuracy: 0.7878 - val_precision: 0.8726 - val_recall: 0.4405 - lr: 0.0010\n",
      "\n",
      "Epoch 00002: LearningRateScheduler reducing learning rate to 0.001.\n",
      "Epoch 2/100\n",
      "24/24 [==============================] - 28s 1s/step - loss: 16.9371 - accuracy: 0.8047 - precision: 0.8668 - recall: 0.6917 - val_loss: 12.6855 - val_accuracy: 0.8682 - val_precision: 0.8982 - val_recall: 0.7942 - lr: 0.0010\n",
      "\n",
      "Epoch 00003: LearningRateScheduler reducing learning rate to 0.001.\n",
      "Epoch 3/100\n",
      "24/24 [==============================] - 30s 1s/step - loss: 9.5975 - accuracy: 0.8477 - precision: 0.8667 - recall: 0.8237 - val_loss: 7.2946 - val_accuracy: 0.8650 - val_precision: 0.8703 - val_recall: 0.8199 - lr: 0.0010\n",
      "\n",
      "Epoch 00004: LearningRateScheduler reducing learning rate to 0.001.\n",
      "Epoch 4/100\n",
      "24/24 [==============================] - 28s 1s/step - loss: 5.4223 - accuracy: 0.8777 - precision: 0.8952 - recall: 0.8540 - val_loss: 4.1737 - val_accuracy: 0.8971 - val_precision: 0.9043 - val_recall: 0.8810 - lr: 0.0010\n",
      "\n",
      "Epoch 00005: LearningRateScheduler reducing learning rate to 0.001.\n",
      "Epoch 5/100\n",
      "24/24 [==============================] - 30s 1s/step - loss: 3.0502 - accuracy: 0.9017 - precision: 0.9121 - recall: 0.8893 - val_loss: 2.8682 - val_accuracy: 0.7395 - val_precision: 0.7483 - val_recall: 0.7267 - lr: 0.0010\n",
      "\n",
      "Epoch 00006: LearningRateScheduler reducing learning rate to 0.001.\n",
      "Epoch 6/100\n",
      "24/24 [==============================] - 30s 1s/step - loss: 1.7432 - accuracy: 0.8960 - precision: 0.9089 - recall: 0.8847 - val_loss: 1.3991 - val_accuracy: 0.9293 - val_precision: 0.9351 - val_recall: 0.9260 - lr: 0.0010\n",
      "\n",
      "Epoch 00007: LearningRateScheduler reducing learning rate to 0.001.\n",
      "Epoch 7/100\n",
      " 1/24 [>.............................] - ETA: 0s - loss: 1.2497 - accuracy: 0.9531 - precision: 0.9606 - recall: 0.9531"
     ]
    }
   ],
   "source": [
    "from main import run_fold, run\n",
    "run('ASAS')"
   ]
  },
  {
   "cell_type": "code",
   "execution_count": null,
   "metadata": {},
   "outputs": [],
   "source": []
  }
 ],
 "metadata": {
  "kernelspec": {
   "display_name": "Python 3",
   "language": "python",
   "name": "python3"
  },
  "language_info": {
   "codemirror_mode": {
    "name": "ipython",
    "version": 3
   },
   "file_extension": ".py",
   "mimetype": "text/x-python",
   "name": "python",
   "nbconvert_exporter": "python",
   "pygments_lexer": "ipython3",
   "version": "3.7.3"
  }
 },
 "nbformat": 4,
 "nbformat_minor": 2
}
