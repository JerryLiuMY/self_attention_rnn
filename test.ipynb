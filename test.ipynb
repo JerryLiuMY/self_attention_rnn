{
 "cells": [
  {
   "cell_type": "code",
   "execution_count": 1,
   "metadata": {},
   "outputs": [],
   "source": [
    "from main import run_fold\n",
    "from config.model_config import rnn_nums_hp, rnn_dims_hp, dnn_nums_hp\n",
    "rnn_nums, rnn_dims, dnn_nums = rnn_nums_hp.domain.values, rnn_dims_hp.domain.values, dnn_nums_hp.domain.values\n",
    "rnn_num, rnn_dim, dnn_num = rnn_nums[0], rnn_dims[0], dnn_nums[0]\n",
    "hyper_param = {rnn_nums_hp: rnn_num, rnn_dims_hp: rnn_dim, dnn_nums_hp: dnn_num}"
   ]
  },
  {
   "cell_type": "code",
   "execution_count": null,
   "metadata": {
    "scrolled": true
   },
   "outputs": [
    {
     "name": "stdout",
     "output_type": "stream",
     "text": [
      "--- Starting trial: rnn_num_2-rnn_dim_70-dnn_num_2-2020-08-02--11-41-12\n",
      "{'rnn_nums': 2, 'rnn_dims': 70, 'dnn_nums': 2}\n",
      "2020-08-02 11:41:12.395177 Loading ASAS train set\n",
      "2020-08-02 11:41:25.468052 Loading ASAS valid set\n",
      "2020-08-02 11:41:26.843266 Loading ASAS evalu set\n",
      "\n",
      "Epoch 00001: LearningRateScheduler reducing learning rate to 0.001.\n",
      "Epoch 1/100\n",
      "24/24 [==============================] - ETA: 0s - loss: 20.9987 - accuracy: 0.5577 - precision: 0.8143 - recall: 0.2237"
     ]
    },
    {
     "name": "stderr",
     "output_type": "stream",
     "text": [
      "/Users/mingyu/anaconda3/lib/python3.7/site-packages/sklearn/metrics/_classification.py:1221: UndefinedMetricWarning: Precision and F-score are ill-defined and being set to 0.0 in labels with no predicted samples. Use `zero_division` parameter to control this behavior.\n",
      "  _warn_prf(average, modifier, msg_start, len(result))\n"
     ]
    },
    {
     "name": "stdout",
     "output_type": "stream",
     "text": [
      "24/24 [==============================] - 8s 322ms/step - loss: 20.9987 - accuracy: 0.5577 - precision: 0.8143 - recall: 0.2237 - val_loss: 16.6283 - val_accuracy: 0.6817 - val_precision: 0.0000e+00 - val_recall: 0.0000e+00 - lr: 0.0010\n",
      "\n",
      "Epoch 00002: LearningRateScheduler reducing learning rate to 0.001.\n",
      "Epoch 2/100\n",
      "24/24 [==============================] - ETA: 0s - loss: 11.9589 - accuracy: 0.8007 - precision: 0.8946 - recall: 0.6137"
     ]
    },
    {
     "name": "stderr",
     "output_type": "stream",
     "text": [
      "/Users/mingyu/anaconda3/lib/python3.7/site-packages/sklearn/metrics/_classification.py:1221: UndefinedMetricWarning: Precision and F-score are ill-defined and being set to 0.0 in labels with no predicted samples. Use `zero_division` parameter to control this behavior.\n",
      "  _warn_prf(average, modifier, msg_start, len(result))\n"
     ]
    },
    {
     "name": "stdout",
     "output_type": "stream",
     "text": [
      "24/24 [==============================] - 4s 187ms/step - loss: 11.9589 - accuracy: 0.8007 - precision: 0.8946 - recall: 0.6137 - val_loss: 9.9530 - val_accuracy: 0.5273 - val_precision: 0.0000e+00 - val_recall: 0.0000e+00 - lr: 0.0010\n",
      "\n",
      "Epoch 00003: LearningRateScheduler reducing learning rate to 0.001.\n",
      "Epoch 3/100\n",
      "24/24 [==============================] - ETA: 0s - loss: 6.7447 - accuracy: 0.8317 - precision: 0.8780 - recall: 0.7580"
     ]
    },
    {
     "name": "stderr",
     "output_type": "stream",
     "text": [
      "/Users/mingyu/anaconda3/lib/python3.7/site-packages/sklearn/metrics/_classification.py:1221: UndefinedMetricWarning: Precision and F-score are ill-defined and being set to 0.0 in labels with no predicted samples. Use `zero_division` parameter to control this behavior.\n",
      "  _warn_prf(average, modifier, msg_start, len(result))\n"
     ]
    },
    {
     "name": "stdout",
     "output_type": "stream",
     "text": [
      "24/24 [==============================] - 5s 189ms/step - loss: 6.7447 - accuracy: 0.8317 - precision: 0.8780 - recall: 0.7580 - val_loss: 6.1409 - val_accuracy: 0.5273 - val_precision: 0.0000e+00 - val_recall: 0.0000e+00 - lr: 0.0010\n",
      "\n",
      "Epoch 00004: LearningRateScheduler reducing learning rate to 0.001.\n",
      "Epoch 4/100\n",
      "24/24 [==============================] - ETA: 0s - loss: 3.7874 - accuracy: 0.8567 - precision: 0.8926 - recall: 0.8060"
     ]
    },
    {
     "name": "stderr",
     "output_type": "stream",
     "text": [
      "/Users/mingyu/anaconda3/lib/python3.7/site-packages/sklearn/metrics/_classification.py:1221: UndefinedMetricWarning: Precision and F-score are ill-defined and being set to 0.0 in labels with no predicted samples. Use `zero_division` parameter to control this behavior.\n",
      "  _warn_prf(average, modifier, msg_start, len(result))\n"
     ]
    },
    {
     "name": "stdout",
     "output_type": "stream",
     "text": [
      "24/24 [==============================] - 5s 213ms/step - loss: 3.7874 - accuracy: 0.8567 - precision: 0.8926 - recall: 0.8060 - val_loss: 4.0016 - val_accuracy: 0.5273 - val_precision: 0.0000e+00 - val_recall: 0.0000e+00 - lr: 0.0010\n",
      "\n",
      "Epoch 00005: LearningRateScheduler reducing learning rate to 0.001.\n",
      "Epoch 5/100\n",
      "24/24 [==============================] - ETA: 0s - loss: 2.1216 - accuracy: 0.8757 - precision: 0.8980 - recall: 0.8427"
     ]
    },
    {
     "name": "stderr",
     "output_type": "stream",
     "text": [
      "/Users/mingyu/anaconda3/lib/python3.7/site-packages/sklearn/metrics/_classification.py:1221: UndefinedMetricWarning: Precision and F-score are ill-defined and being set to 0.0 in labels with no predicted samples. Use `zero_division` parameter to control this behavior.\n",
      "  _warn_prf(average, modifier, msg_start, len(result))\n"
     ]
    },
    {
     "name": "stdout",
     "output_type": "stream",
     "text": [
      "24/24 [==============================] - 5s 204ms/step - loss: 2.1216 - accuracy: 0.8757 - precision: 0.8980 - recall: 0.8427 - val_loss: 2.7915 - val_accuracy: 0.5273 - val_precision: 0.0000e+00 - val_recall: 0.0000e+00 - lr: 0.0010\n",
      "\n",
      "Epoch 00006: LearningRateScheduler reducing learning rate to 0.001.\n",
      "Epoch 6/100\n",
      "24/24 [==============================] - ETA: 0s - loss: 1.1951 - accuracy: 0.8817 - precision: 0.9001 - recall: 0.8530"
     ]
    },
    {
     "name": "stderr",
     "output_type": "stream",
     "text": [
      "/Users/mingyu/anaconda3/lib/python3.7/site-packages/sklearn/metrics/_classification.py:1221: UndefinedMetricWarning: Precision and F-score are ill-defined and being set to 0.0 in labels with no predicted samples. Use `zero_division` parameter to control this behavior.\n",
      "  _warn_prf(average, modifier, msg_start, len(result))\n"
     ]
    },
    {
     "name": "stdout",
     "output_type": "stream",
     "text": [
      "24/24 [==============================] - 6s 235ms/step - loss: 1.1951 - accuracy: 0.8817 - precision: 0.9001 - recall: 0.8530 - val_loss: 2.1205 - val_accuracy: 0.5273 - val_precision: 0.0000e+00 - val_recall: 0.0000e+00 - lr: 0.0010\n",
      "\n",
      "Epoch 00007: LearningRateScheduler reducing learning rate to 0.001.\n",
      "Epoch 7/100\n",
      "24/24 [==============================] - ETA: 0s - loss: 0.6942 - accuracy: 0.8910 - precision: 0.9064 - recall: 0.8717"
     ]
    },
    {
     "name": "stderr",
     "output_type": "stream",
     "text": [
      "/Users/mingyu/anaconda3/lib/python3.7/site-packages/sklearn/metrics/_classification.py:1221: UndefinedMetricWarning: Precision and F-score are ill-defined and being set to 0.0 in labels with no predicted samples. Use `zero_division` parameter to control this behavior.\n",
      "  _warn_prf(average, modifier, msg_start, len(result))\n"
     ]
    },
    {
     "name": "stdout",
     "output_type": "stream",
     "text": [
      "24/24 [==============================] - 5s 203ms/step - loss: 0.6942 - accuracy: 0.8910 - precision: 0.9064 - recall: 0.8717 - val_loss: 1.7483 - val_accuracy: 0.5273 - val_precision: 0.0000e+00 - val_recall: 0.0000e+00 - lr: 0.0010\n",
      "\n",
      "Epoch 00008: LearningRateScheduler reducing learning rate to 0.001.\n",
      "Epoch 8/100\n",
      "24/24 [==============================] - ETA: 0s - loss: 0.4175 - accuracy: 0.9040 - precision: 0.9167 - recall: 0.8840"
     ]
    },
    {
     "name": "stderr",
     "output_type": "stream",
     "text": [
      "/Users/mingyu/anaconda3/lib/python3.7/site-packages/sklearn/metrics/_classification.py:1221: UndefinedMetricWarning: Precision and F-score are ill-defined and being set to 0.0 in labels with no predicted samples. Use `zero_division` parameter to control this behavior.\n",
      "  _warn_prf(average, modifier, msg_start, len(result))\n"
     ]
    },
    {
     "name": "stdout",
     "output_type": "stream",
     "text": [
      "24/24 [==============================] - 5s 208ms/step - loss: 0.4175 - accuracy: 0.9040 - precision: 0.9167 - recall: 0.8840 - val_loss: 1.5534 - val_accuracy: 0.5273 - val_precision: 0.0000e+00 - val_recall: 0.0000e+00 - lr: 0.0010\n",
      "\n",
      "Epoch 00009: LearningRateScheduler reducing learning rate to 0.001.\n",
      "Epoch 9/100\n",
      "24/24 [==============================] - ETA: 0s - loss: 0.2890 - accuracy: 0.9050 - precision: 0.9160 - recall: 0.8870"
     ]
    },
    {
     "name": "stderr",
     "output_type": "stream",
     "text": [
      "/Users/mingyu/anaconda3/lib/python3.7/site-packages/sklearn/metrics/_classification.py:1221: UndefinedMetricWarning: Precision and F-score are ill-defined and being set to 0.0 in labels with no predicted samples. Use `zero_division` parameter to control this behavior.\n",
      "  _warn_prf(average, modifier, msg_start, len(result))\n"
     ]
    },
    {
     "name": "stdout",
     "output_type": "stream",
     "text": [
      "24/24 [==============================] - 5s 202ms/step - loss: 0.2890 - accuracy: 0.9050 - precision: 0.9160 - recall: 0.8870 - val_loss: 1.4273 - val_accuracy: 0.5273 - val_precision: 0.0000e+00 - val_recall: 0.0000e+00 - lr: 0.0010\n",
      "\n",
      "Epoch 00010: LearningRateScheduler reducing learning rate to 0.001.\n",
      "Epoch 10/100\n",
      "24/24 [==============================] - ETA: 0s - loss: 0.2037 - accuracy: 0.9103 - precision: 0.9224 - recall: 0.9000"
     ]
    },
    {
     "name": "stderr",
     "output_type": "stream",
     "text": [
      "/Users/mingyu/anaconda3/lib/python3.7/site-packages/sklearn/metrics/_classification.py:1221: UndefinedMetricWarning: Precision and F-score are ill-defined and being set to 0.0 in labels with no predicted samples. Use `zero_division` parameter to control this behavior.\n",
      "  _warn_prf(average, modifier, msg_start, len(result))\n"
     ]
    },
    {
     "name": "stdout",
     "output_type": "stream",
     "text": [
      "24/24 [==============================] - 5s 198ms/step - loss: 0.2037 - accuracy: 0.9103 - precision: 0.9224 - recall: 0.9000 - val_loss: 1.3518 - val_accuracy: 0.5273 - val_precision: 0.8966 - val_recall: 0.0836 - lr: 0.0010\n",
      "\n",
      "Epoch 00011: LearningRateScheduler reducing learning rate to 0.001.\n",
      "Epoch 11/100\n",
      "24/24 [==============================] - ETA: 0s - loss: 0.1790 - accuracy: 0.9010 - precision: 0.9120 - recall: 0.8877"
     ]
    },
    {
     "name": "stderr",
     "output_type": "stream",
     "text": [
      "/Users/mingyu/anaconda3/lib/python3.7/site-packages/sklearn/metrics/_classification.py:1221: UndefinedMetricWarning: Precision and F-score are ill-defined and being set to 0.0 in labels with no predicted samples. Use `zero_division` parameter to control this behavior.\n",
      "  _warn_prf(average, modifier, msg_start, len(result))\n"
     ]
    },
    {
     "name": "stdout",
     "output_type": "stream",
     "text": [
      "24/24 [==============================] - 5s 197ms/step - loss: 0.1790 - accuracy: 0.9010 - precision: 0.9120 - recall: 0.8877 - val_loss: 1.2989 - val_accuracy: 0.5273 - val_precision: 0.8875 - val_recall: 0.4566 - lr: 0.0010\n",
      "\n",
      "Epoch 00012: LearningRateScheduler reducing learning rate to 0.001.\n",
      "Epoch 12/100\n",
      "24/24 [==============================] - ETA: 0s - loss: 0.1468 - accuracy: 0.9173 - precision: 0.9264 - recall: 0.9057"
     ]
    },
    {
     "name": "stderr",
     "output_type": "stream",
     "text": [
      "/Users/mingyu/anaconda3/lib/python3.7/site-packages/sklearn/metrics/_classification.py:1221: UndefinedMetricWarning: Precision and F-score are ill-defined and being set to 0.0 in labels with no predicted samples. Use `zero_division` parameter to control this behavior.\n",
      "  _warn_prf(average, modifier, msg_start, len(result))\n"
     ]
    },
    {
     "name": "stdout",
     "output_type": "stream",
     "text": [
      "24/24 [==============================] - 5s 194ms/step - loss: 0.1468 - accuracy: 0.9173 - precision: 0.9264 - recall: 0.9057 - val_loss: 1.2506 - val_accuracy: 0.5273 - val_precision: 0.7500 - val_recall: 0.5113 - lr: 0.0010\n",
      "\n",
      "Epoch 00013: LearningRateScheduler reducing learning rate to 0.001.\n",
      "Epoch 13/100\n",
      "24/24 [==============================] - ETA: 0s - loss: 0.1286 - accuracy: 0.9217 - precision: 0.9331 - recall: 0.9113"
     ]
    },
    {
     "name": "stderr",
     "output_type": "stream",
     "text": [
      "/Users/mingyu/anaconda3/lib/python3.7/site-packages/sklearn/metrics/_classification.py:1221: UndefinedMetricWarning: Precision and F-score are ill-defined and being set to 0.0 in labels with no predicted samples. Use `zero_division` parameter to control this behavior.\n",
      "  _warn_prf(average, modifier, msg_start, len(result))\n"
     ]
    },
    {
     "name": "stdout",
     "output_type": "stream",
     "text": [
      "24/24 [==============================] - 5s 200ms/step - loss: 0.1286 - accuracy: 0.9217 - precision: 0.9331 - recall: 0.9113 - val_loss: 1.1983 - val_accuracy: 0.5273 - val_precision: 0.7074 - val_recall: 0.5209 - lr: 0.0010\n",
      "\n",
      "Epoch 00014: LearningRateScheduler reducing learning rate to 0.001.\n",
      "Epoch 14/100\n",
      "24/24 [==============================] - ETA: 0s - loss: 0.1259 - accuracy: 0.9193 - precision: 0.9281 - recall: 0.9077"
     ]
    },
    {
     "name": "stderr",
     "output_type": "stream",
     "text": [
      "/Users/mingyu/anaconda3/lib/python3.7/site-packages/sklearn/metrics/_classification.py:1221: UndefinedMetricWarning: Precision and F-score are ill-defined and being set to 0.0 in labels with no predicted samples. Use `zero_division` parameter to control this behavior.\n",
      "  _warn_prf(average, modifier, msg_start, len(result))\n"
     ]
    },
    {
     "name": "stdout",
     "output_type": "stream",
     "text": [
      "24/24 [==============================] - 5s 190ms/step - loss: 0.1259 - accuracy: 0.9193 - precision: 0.9281 - recall: 0.9077 - val_loss: 1.1449 - val_accuracy: 0.5273 - val_precision: 0.6457 - val_recall: 0.5273 - lr: 0.0010\n",
      "\n",
      "Epoch 00015: LearningRateScheduler reducing learning rate to 0.001.\n",
      "Epoch 15/100\n",
      "24/24 [==============================] - ETA: 0s - loss: 0.1123 - accuracy: 0.9333 - precision: 0.9426 - recall: 0.9243"
     ]
    },
    {
     "name": "stderr",
     "output_type": "stream",
     "text": [
      "/Users/mingyu/anaconda3/lib/python3.7/site-packages/sklearn/metrics/_classification.py:1221: UndefinedMetricWarning: Precision and F-score are ill-defined and being set to 0.0 in labels with no predicted samples. Use `zero_division` parameter to control this behavior.\n",
      "  _warn_prf(average, modifier, msg_start, len(result))\n"
     ]
    },
    {
     "name": "stdout",
     "output_type": "stream",
     "text": [
      "24/24 [==============================] - 5s 204ms/step - loss: 0.1123 - accuracy: 0.9333 - precision: 0.9426 - recall: 0.9243 - val_loss: 1.0946 - val_accuracy: 0.5273 - val_precision: 0.6923 - val_recall: 0.5209 - lr: 0.0010\n",
      "\n",
      "Epoch 00016: LearningRateScheduler reducing learning rate to 0.001.\n",
      "Epoch 16/100\n",
      "24/24 [==============================] - ETA: 0s - loss: 0.1185 - accuracy: 0.9190 - precision: 0.9271 - recall: 0.9113"
     ]
    },
    {
     "name": "stderr",
     "output_type": "stream",
     "text": [
      "/Users/mingyu/anaconda3/lib/python3.7/site-packages/sklearn/metrics/_classification.py:1221: UndefinedMetricWarning: Precision and F-score are ill-defined and being set to 0.0 in labels with no predicted samples. Use `zero_division` parameter to control this behavior.\n",
      "  _warn_prf(average, modifier, msg_start, len(result))\n"
     ]
    },
    {
     "name": "stdout",
     "output_type": "stream",
     "text": [
      "24/24 [==============================] - 5s 206ms/step - loss: 0.1185 - accuracy: 0.9190 - precision: 0.9271 - recall: 0.9113 - val_loss: 1.0423 - val_accuracy: 0.5338 - val_precision: 0.6318 - val_recall: 0.5241 - lr: 0.0010\n",
      "\n",
      "Epoch 00017: LearningRateScheduler reducing learning rate to 0.001.\n",
      "Epoch 17/100\n",
      "24/24 [==============================] - ETA: 0s - loss: 0.1055 - accuracy: 0.9277 - precision: 0.9369 - recall: 0.9200"
     ]
    },
    {
     "name": "stderr",
     "output_type": "stream",
     "text": [
      "/Users/mingyu/anaconda3/lib/python3.7/site-packages/sklearn/metrics/_classification.py:1221: UndefinedMetricWarning: Precision and F-score are ill-defined and being set to 0.0 in labels with no predicted samples. Use `zero_division` parameter to control this behavior.\n",
      "  _warn_prf(average, modifier, msg_start, len(result))\n"
     ]
    },
    {
     "name": "stdout",
     "output_type": "stream",
     "text": [
      "24/24 [==============================] - 5s 196ms/step - loss: 0.1055 - accuracy: 0.9277 - precision: 0.9369 - recall: 0.9200 - val_loss: 0.9508 - val_accuracy: 0.6463 - val_precision: 0.7301 - val_recall: 0.5305 - lr: 0.0010\n",
      "\n",
      "Epoch 00018: LearningRateScheduler reducing learning rate to 0.001.\n",
      "Epoch 18/100\n",
      "24/24 [==============================] - ETA: 0s - loss: 0.0984 - accuracy: 0.9430 - precision: 0.9486 - recall: 0.9347"
     ]
    },
    {
     "name": "stderr",
     "output_type": "stream",
     "text": [
      "/Users/mingyu/anaconda3/lib/python3.7/site-packages/sklearn/metrics/_classification.py:1221: UndefinedMetricWarning: Precision and F-score are ill-defined and being set to 0.0 in labels with no predicted samples. Use `zero_division` parameter to control this behavior.\n",
      "  _warn_prf(average, modifier, msg_start, len(result))\n"
     ]
    },
    {
     "name": "stdout",
     "output_type": "stream",
     "text": [
      "24/24 [==============================] - 5s 191ms/step - loss: 0.0984 - accuracy: 0.9430 - precision: 0.9486 - recall: 0.9347 - val_loss: 0.8327 - val_accuracy: 0.6527 - val_precision: 0.7208 - val_recall: 0.5563 - lr: 0.0010\n",
      "\n",
      "Epoch 00019: LearningRateScheduler reducing learning rate to 0.001.\n",
      "Epoch 19/100\n",
      "24/24 [==============================] - ETA: 0s - loss: 0.0955 - accuracy: 0.9337 - precision: 0.9430 - recall: 0.9257"
     ]
    },
    {
     "name": "stderr",
     "output_type": "stream",
     "text": [
      "/Users/mingyu/anaconda3/lib/python3.7/site-packages/sklearn/metrics/_classification.py:1221: UndefinedMetricWarning: Precision and F-score are ill-defined and being set to 0.0 in labels with no predicted samples. Use `zero_division` parameter to control this behavior.\n",
      "  _warn_prf(average, modifier, msg_start, len(result))\n"
     ]
    },
    {
     "name": "stdout",
     "output_type": "stream",
     "text": [
      "24/24 [==============================] - 5s 188ms/step - loss: 0.0955 - accuracy: 0.9337 - precision: 0.9430 - recall: 0.9257 - val_loss: 1.0386 - val_accuracy: 0.5338 - val_precision: 0.5500 - val_recall: 0.5305 - lr: 0.0010\n",
      "\n",
      "Epoch 00020: LearningRateScheduler reducing learning rate to 0.001.\n",
      "Epoch 20/100\n",
      "21/24 [=========================>....] - ETA: 0s - loss: 0.0950 - accuracy: 0.9382 - precision: 0.9462 - recall: 0.9297"
     ]
    }
   ],
   "source": [
    "from main import run_fold, run\n",
    "run('ASAS')"
   ]
  },
  {
   "cell_type": "code",
   "execution_count": null,
   "metadata": {},
   "outputs": [],
   "source": []
  }
 ],
 "metadata": {
  "kernelspec": {
   "display_name": "Python 3",
   "language": "python",
   "name": "python3"
  },
  "language_info": {
   "codemirror_mode": {
    "name": "ipython",
    "version": 3
   },
   "file_extension": ".py",
   "mimetype": "text/x-python",
   "name": "python",
   "nbconvert_exporter": "python",
   "pygments_lexer": "ipython3",
   "version": "3.7.3"
  }
 },
 "nbformat": 4,
 "nbformat_minor": 2
}
